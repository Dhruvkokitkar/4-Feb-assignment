{
 "cells": [
  {
   "cell_type": "code",
   "execution_count": 22,
   "id": "dc8272c0-e79a-4bd3-9574-75f322a8cda7",
   "metadata": {},
   "outputs": [],
   "source": [
    "list1 = [('Sachin Tendulkar', 34357), ('Ricky Ponting', 27483), ('Jack Kallis', 25534), ('Virat Kohli', 24936)]"
   ]
  },
  {
   "cell_type": "code",
   "execution_count": 23,
   "id": "4402c2b4-bc8d-4ebd-8011-db5a60d807df",
   "metadata": {},
   "outputs": [
    {
     "data": {
      "text/plain": [
       "[('Virat Kohli', 24936),\n",
       " ('Jack Kallis', 25534),\n",
       " ('Ricky Ponting', 27483),\n",
       " ('Sachin Tendulkar', 34357)]"
      ]
     },
     "execution_count": 23,
     "metadata": {},
     "output_type": "execute_result"
    }
   ],
   "source": [
    "list(sorted(list1, key = lambda x : x[1],reverse=False))\n",
    "[('Virat Kohli', 24936),\n",
    " ('Jack Kallis', 25534),\n",
    " ('Ricky Ponting', 27483),\n",
    " ('Sachin Tendulkar', 34357)]"
   ]
  },
  {
   "cell_type": "code",
   "execution_count": 8,
   "id": "3d6f8ff2-9825-46e1-9be1-12088749c4ff",
   "metadata": {},
   "outputs": [
    {
     "data": {
      "text/plain": [
       "[1, 4, 9, 16, 25, 36, 49, 64, 81, 100]"
      ]
     },
     "execution_count": 8,
     "metadata": {},
     "output_type": "execute_result"
    }
   ],
   "source": [
    "#2\n",
    "l=[1, 2, 3, 4, 5, 6, 7, 8, 9, 10]\n",
    "list(map(lambda x:x*x,l))"
   ]
  },
  {
   "cell_type": "code",
   "execution_count": 18,
   "id": "3eee91d9-389d-4747-bd98-581135eabdac",
   "metadata": {},
   "outputs": [
    {
     "data": {
      "text/plain": [
       "('1', '2', '3', '4', '5', '6', '7', '8', '9', '10')"
      ]
     },
     "execution_count": 18,
     "metadata": {},
     "output_type": "execute_result"
    }
   ],
   "source": [
    "#3\n",
    "tuple(map(lambda x: str(x), l))\n",
    "('1', '2', '3', '4', '5', '6', '7', '8', '9', '10')"
   ]
  },
  {
   "cell_type": "code",
   "execution_count": 19,
   "id": "b094887c-b4ff-4f61-bb68-755fdf800a67",
   "metadata": {},
   "outputs": [
    {
     "data": {
      "text/plain": [
       "620448401733239439360000"
      ]
     },
     "execution_count": 19,
     "metadata": {},
     "output_type": "execute_result"
    }
   ],
   "source": [
    "#4\n",
    "from functools import reduce\n",
    "l=list(range(1,25))\n",
    "reduce(lambda x,y:x*y,l)"
   ]
  },
  {
   "cell_type": "code",
   "execution_count": 21,
   "id": "8abcfcdc-a320-4189-aec4-8d87118cabf6",
   "metadata": {},
   "outputs": [
    {
     "data": {
      "text/plain": [
       "[2, 3, 6, 9, 27, 60, 90, 120, 46]"
      ]
     },
     "execution_count": 21,
     "metadata": {},
     "output_type": "execute_result"
    }
   ],
   "source": [
    "#5\n",
    "l=[2, 3, 6, 9, 27, 60, 90, 120, 55, 46]\n",
    "list(filter(lambda x:x%2==0 or x%3==0,l))"
   ]
  },
  {
   "cell_type": "code",
   "execution_count": null,
   "id": "b60fd951-306f-4179-8ba4-ba09adbcec91",
   "metadata": {},
   "outputs": [],
   "source": []
  }
 ],
 "metadata": {
  "kernelspec": {
   "display_name": "Python 3 (ipykernel)",
   "language": "python",
   "name": "python3"
  },
  "language_info": {
   "codemirror_mode": {
    "name": "ipython",
    "version": 3
   },
   "file_extension": ".py",
   "mimetype": "text/x-python",
   "name": "python",
   "nbconvert_exporter": "python",
   "pygments_lexer": "ipython3",
   "version": "3.10.8"
  }
 },
 "nbformat": 4,
 "nbformat_minor": 5
}
